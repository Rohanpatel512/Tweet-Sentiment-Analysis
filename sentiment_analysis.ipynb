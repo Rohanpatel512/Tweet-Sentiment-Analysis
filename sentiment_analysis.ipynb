{
 "cells": [
  {
   "cell_type": "code",
   "execution_count": 1,
   "id": "4374c4f4-81da-4595-90cf-5e33aaa0d4c6",
   "metadata": {},
   "outputs": [],
   "source": [
    "# Import Libraries \n",
    "import nltk\n",
    "from nltk.corpus import twitter_samples\n",
    "import os\n",
    "import sys\n",
    "import numpy as np \n",
    "from sklearn.metrics import precision_score, recall_score, f1_score, accuracy_score, confusion_matrix\n",
    "import matplotlib.pyplot as plt\n",
    "import pandas as pd\n",
    "import seaborn as sns"
   ]
  },
  {
   "cell_type": "markdown",
   "id": "cb4f14df-7b04-4d69-8eff-7fb9fc87fd6d",
   "metadata": {},
   "source": [
    "## Data Preprocessing"
   ]
  },
  {
   "cell_type": "code",
   "execution_count": 2,
   "id": "372015da-8009-4409-973e-36d991aa4294",
   "metadata": {},
   "outputs": [],
   "source": [
    "path = os.getcwd()\n",
    "sys.path.append(path)"
   ]
  },
  {
   "cell_type": "code",
   "execution_count": 3,
   "id": "0b0bbb85-6edc-4bb0-95e2-9d9ea8da4129",
   "metadata": {},
   "outputs": [
    {
     "name": "stderr",
     "output_type": "stream",
     "text": [
      "[nltk_data] Downloading package twitter_samples to\n",
      "[nltk_data]     /Users/rohan/nltk_data...\n",
      "[nltk_data]   Package twitter_samples is already up-to-date!\n"
     ]
    },
    {
     "data": {
      "text/plain": [
       "True"
      ]
     },
     "execution_count": 3,
     "metadata": {},
     "output_type": "execute_result"
    }
   ],
   "source": [
    "# Download the data and stop words\n",
    "nltk.download('twitter_samples')"
   ]
  },
  {
   "cell_type": "code",
   "execution_count": 4,
   "id": "69901ce3-fca6-4858-b64e-836e8836db56",
   "metadata": {},
   "outputs": [
    {
     "name": "stdout",
     "output_type": "stream",
     "text": [
      "Type for positive & negative tweets: <class 'list'>\n",
      "Number of Positive Tweets: 5000\n",
      "Number of Negative Tweets: 5000\n"
     ]
    }
   ],
   "source": [
    "# Get the positive and negative tweets\n",
    "positive_tweets = twitter_samples.strings('positive_tweets.json')\n",
    "negative_tweets = twitter_samples.strings('negative_tweets.json')\n",
    "\n",
    "# Display the type of both 'positive_tweets' and 'negative_tweets'\n",
    "print(f\"Type for positive & negative tweets: {type(positive_tweets)}\")\n",
    "\n",
    "# Display number of positive and negative tweets\n",
    "print(f\"Number of Positive Tweets: {len(positive_tweets)}\")\n",
    "print(f\"Number of Negative Tweets: {len(negative_tweets)}\")"
   ]
  },
  {
   "cell_type": "code",
   "execution_count": 5,
   "id": "5073bd64-ca68-4f15-8135-8f3008ba3c90",
   "metadata": {},
   "outputs": [],
   "source": [
    "# Split the training data into a 80-20 split\n",
    "train_split = 0.8\n",
    "positive_tweets_train = positive_tweets[:int(train_split * len(positive_tweets))]\n",
    "negative_tweets_train = negative_tweets[:int(train_split * len(negative_tweets))]\n",
    "\n",
    "positive_tweets_test = positive_tweets[int(train_split * len(positive_tweets)):]\n",
    "negative_tweets_test = negative_tweets[int(train_split * len(negative_tweets)):]"
   ]
  },
  {
   "cell_type": "code",
   "execution_count": 6,
   "id": "993fba42-5959-48a6-90e2-427112278503",
   "metadata": {},
   "outputs": [
    {
     "name": "stderr",
     "output_type": "stream",
     "text": [
      "[nltk_data] Downloading package stopwords to /Users/rohan/nltk_data...\n",
      "[nltk_data]   Package stopwords is already up-to-date!\n"
     ]
    }
   ],
   "source": [
    "# Process the training data\n",
    "from utils.data_process import process_tweet\n",
    "positive_tweets_train, negative_tweets_train = process_tweet(positive_tweets_train, negative_tweets_train)"
   ]
  },
  {
   "cell_type": "code",
   "execution_count": 7,
   "id": "d54493f3-18c8-4b4c-9c32-918d0af375db",
   "metadata": {},
   "outputs": [],
   "source": [
    "# Find the frequencies of each word in both positive sentiment & negative sentiment corpuses\n",
    "from utils.data_process import find_frequencies\n",
    "positive_freq, negative_freq = find_frequencies(positive_tweets_train, negative_tweets_train)"
   ]
  },
  {
   "cell_type": "code",
   "execution_count": 8,
   "id": "7ea22b50-dc8e-4a1b-baff-773ccaca92ac",
   "metadata": {},
   "outputs": [],
   "source": [
    "from utils.data_process import build_feature_vector\n",
    "\n",
    "# Concatenate both positive tweets and negative tweets\n",
    "train_tweets = positive_tweets_train + negative_tweets_train\n",
    "\n",
    "# Create the instance of train matrix\n",
    "train_matrix = np.empty((0, 3), int)\n",
    "\n",
    "for tweet in train_tweets:\n",
    "    feature_vector = np.array(build_feature_vector(tweet, positive_freq, negative_freq))\n",
    "    train_matrix = np.vstack((train_matrix, feature_vector))\n",
    "\n",
    "# Create the sentiment array\n",
    "Y = np.concatenate((np.ones(len(positive_tweets_train)), np.zeros(len(negative_tweets_train))))"
   ]
  },
  {
   "cell_type": "markdown",
   "id": "a950c40f-a372-4983-9845-fb746f98ba3e",
   "metadata": {},
   "source": [
    "## Train Model"
   ]
  },
  {
   "cell_type": "code",
   "execution_count": 11,
   "id": "2534427f-8e05-40d4-897e-1700774b0903",
   "metadata": {},
   "outputs": [
    {
     "name": "stderr",
     "output_type": "stream",
     "text": [
      "/Users/rohan/Desktop/NLP-Projects/Tweet-Sentiment-Analysis/logistic_regression.py:27: RuntimeWarning: overflow encountered in exp\n",
      "  result = 1 / (1 + np.exp((-1 * value)))\n"
     ]
    },
    {
     "data": {
      "text/plain": [
       "array([ 9.93916335e-01,  8.56809181e+02, -1.00921848e+03])"
      ]
     },
     "execution_count": 11,
     "metadata": {},
     "output_type": "execute_result"
    }
   ],
   "source": [
    "# Import the logistic regression model\n",
    "from logistic_regression import Logistic_Regression_GD\n",
    "\n",
    "# Create an instance of the logistic regression model\n",
    "model = Logistic_Regression_GD(0.01, 200)\n",
    "\n",
    "# Train the model \n",
    "model.fit(train_matrix, Y)"
   ]
  },
  {
   "cell_type": "code",
   "execution_count": 12,
   "id": "da6a8d69-03ca-41c7-a614-753627ee4ce0",
   "metadata": {},
   "outputs": [
    {
     "name": "stdout",
     "output_type": "stream",
     "text": [
      "Train Accuracy: 98.30%\n",
      "Train Precision: 100.00%\n",
      "Train Recall: 96.60%\n",
      "Train F1-Score: 98.27%\n"
     ]
    }
   ],
   "source": [
    "# Compute the precision, recall, f1-score, and accuracy of sentiment\n",
    "y_pred = []\n",
    "# Loop through each value in the train matrix \n",
    "for i in range(0, len(train_matrix)):\n",
    "    y_pred.append(model.predict(train_matrix[i]))\n",
    "\n",
    "# Compute all metric scores\n",
    "accuracy = accuracy_score(Y, y_pred)\n",
    "precision = precision_score(Y, y_pred)\n",
    "recall = recall_score(Y, y_pred)\n",
    "f1 = f1_score(Y, y_pred)\n",
    "\n",
    "# Display the scores\n",
    "print(f\"Train Accuracy: {accuracy*100:.2f}%\")\n",
    "print(f\"Train Precision: {precision*100:.2f}%\")\n",
    "print(f\"Train Recall: {recall*100:.2f}%\")\n",
    "print(f\"Train F1-Score: {f1*100:.2f}%\")\n",
    "    "
   ]
  },
  {
   "cell_type": "markdown",
   "id": "77929df1-2461-4cac-a442-a1421beb48ee",
   "metadata": {},
   "source": [
    "## Test Model"
   ]
  },
  {
   "cell_type": "code",
   "execution_count": 13,
   "id": "ac5d91bc-9bd8-4427-8d9d-8a6bae0b6ef9",
   "metadata": {},
   "outputs": [
    {
     "name": "stderr",
     "output_type": "stream",
     "text": [
      "[nltk_data] Downloading package stopwords to /Users/rohan/nltk_data...\n",
      "[nltk_data]   Package stopwords is already up-to-date!\n"
     ]
    }
   ],
   "source": [
    "# Process the positive and negative test tweets\n",
    "positive_tweets_test, negative_tweets_test = process_tweet(positive_tweets_test, negative_tweets_test)\n",
    "\n",
    "# Get the frequencies of each word in both positive and negative tweets\n",
    "positive_frequencies, negative_frequencies = find_frequencies(positive_tweets_test, negative_tweets_test)\n",
    "\n",
    "# Concatenate both tweets\n",
    "test_tweets = positive_tweets_test + negative_tweets_test\n",
    "\n",
    "test_matrix = np.empty((0, 3), int)\n",
    "\n",
    "for tweet in test_tweets:\n",
    "    feature_vector = np.array(build_feature_vector(tweet, positive_frequencies, negative_frequencies))\n",
    "    test_matrix = np.vstack((test_matrix, feature_vector))\n",
    "\n",
    "y_true = np.concatenate((np.ones(len(positive_tweets_test)), np.zeros(len(negative_tweets_test))))"
   ]
  },
  {
   "cell_type": "code",
   "execution_count": 14,
   "id": "b67f9fc7-0eba-4cde-914b-3bed66eb411a",
   "metadata": {},
   "outputs": [
    {
     "name": "stdout",
     "output_type": "stream",
     "text": [
      "Test Accuracy: 98.65%\n",
      "Test Precision: 100.00%\n",
      "Test Recall: 97.30%\n",
      "Test F1-Score: 98.63%\n"
     ]
    },
    {
     "name": "stderr",
     "output_type": "stream",
     "text": [
      "/Users/rohan/Desktop/NLP-Projects/Tweet-Sentiment-Analysis/logistic_regression.py:27: RuntimeWarning: overflow encountered in exp\n",
      "  result = 1 / (1 + np.exp((-1 * value)))\n"
     ]
    }
   ],
   "source": [
    "# Compute the precision, recall, f1-score, and accuracy of sentiment\n",
    "y_pred = []\n",
    "# Loop through each value in the train matrix \n",
    "for i in range(0, len(test_matrix)):\n",
    "    y_pred.append(model.predict(test_matrix[i]))\n",
    "\n",
    "# Compute all metric scores\n",
    "accuracy = accuracy_score(y_true, y_pred)\n",
    "precision = precision_score(y_true, y_pred)\n",
    "recall = recall_score(y_true, y_pred)\n",
    "f1 = f1_score(y_true, y_pred)\n",
    "\n",
    "# Display the scores\n",
    "print(f\"Test Accuracy: {accuracy*100:.2f}%\")\n",
    "print(f\"Test Precision: {precision*100:.2f}%\")\n",
    "print(f\"Test Recall: {recall*100:.2f}%\")\n",
    "print(f\"Test F1-Score: {f1*100:.2f}%\")\n",
    "    "
   ]
  },
  {
   "cell_type": "markdown",
   "id": "6ff2313b-7dff-4898-91d8-d3ae882f5c3b",
   "metadata": {},
   "source": [
    "## Visualization"
   ]
  },
  {
   "cell_type": "code",
   "execution_count": 18,
   "id": "1980086f-d4df-4ae2-b971-ded352b15967",
   "metadata": {},
   "outputs": [
    {
     "data": {
      "text/plain": [
       "<Axes: >"
      ]
     },
     "execution_count": 18,
     "metadata": {},
     "output_type": "execute_result"
    },
    {
     "data": {
      "image/png": "[encoded data removed]",
      "text/plain": [
       "<Figure size 800x600 with 2 Axes>"
      ]
     },
     "metadata": {},
     "output_type": "display_data"
    }
   ],
   "source": [
    "# Display confusion matrix \n",
    "matrix = confusion_matrix(y_true, y_pred)\n",
    "table = pd.DataFrame(matrix, columns=['Pred Negative', 'Pred Positive'], index=['True Negative', 'True Positive'])\n",
    "plt.figure(figsize=(8, 6))\n",
    "sns.heatmap(table, annot=True, fmt=\"d\")"
   ]
  }
 ],
 "metadata": {
  "kernelspec": {
   "display_name": "Python 3 (ipykernel)",
   "language": "python",
   "name": "python3"
  },
  "language_info": {
   "codemirror_mode": {
    "name": "ipython",
    "version": 3
   },
   "file_extension": ".py",
   "mimetype": "text/x-python",
   "name": "python",
   "nbconvert_exporter": "python",
   "pygments_lexer": "ipython3",
   "version": "3.12.5"
  }
 },
 "nbformat": 4,
 "nbformat_minor": 5
}
